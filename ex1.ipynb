{
 "cells": [
  {
   "cell_type": "code",
   "execution_count": 1,
   "metadata": {
    "collapsed": true
   },
   "outputs": [],
   "source": [
    "from numpy import *\n",
    "from matplotlib.pyplot import *\n",
    "%matplotlib inline"
   ]
  },
  {
   "cell_type": "code",
   "execution_count": 2,
   "metadata": {
    "collapsed": true
   },
   "outputs": [],
   "source": [
    "def warmUpExercise():\n",
    "    return eye(5)"
   ]
  },
  {
   "cell_type": "code",
   "execution_count": 3,
   "metadata": {},
   "outputs": [
    {
     "name": "stdout",
     "output_type": "stream",
     "text": [
      "Running warmUpExercise ...\n",
      "5x5 Identity Matrix:\n"
     ]
    },
    {
     "data": {
      "text/plain": [
       "array([[ 1.,  0.,  0.,  0.,  0.],\n",
       "       [ 0.,  1.,  0.,  0.,  0.],\n",
       "       [ 0.,  0.,  1.,  0.,  0.],\n",
       "       [ 0.,  0.,  0.,  1.,  0.],\n",
       "       [ 0.,  0.,  0.,  0.,  1.]])"
      ]
     },
     "execution_count": 3,
     "metadata": {},
     "output_type": "execute_result"
    }
   ],
   "source": [
    "print('Running warmUpExercise ...')\n",
    "print('5x5 Identity Matrix:')\n",
    "warmUpExercise()"
   ]
  },
  {
   "cell_type": "code",
   "execution_count": 19,
   "metadata": {},
   "outputs": [
    {
     "name": "stdout",
     "output_type": "stream",
     "text": [
      "Plotting Data ...\n"
     ]
    },
    {
     "data": {
      "image/png": "[encoded data removed]",
      "text/plain": [
       "<matplotlib.figure.Figure at 0x77595c0>"
      ]
     },
     "metadata": {},
     "output_type": "display_data"
    }
   ],
   "source": [
    "print('Plotting Data ...')\n",
    "x_value,y=loadtxt(\"ex1data1.txt\",delimiter=',',usecols=(0,1),unpack=True)\n",
    "m=size(y)\n",
    "def plotData(x,y):\n",
    "    xlabel(\"population\")\n",
    "    ylabel(\"revenue\")\n",
    "    scatter(x,y,c='red')\n",
    "    \n",
    "X=x_value\n",
    "plotData(X,y)"
   ]
  },
  {
   "cell_type": "code",
   "execution_count": 25,
   "metadata": {},
   "outputs": [
    {
     "name": "stdout",
     "output_type": "stream",
     "text": [
      "Testing the cost function ...\n",
      "With theta = [[0],[0]] Cost computed= [[ 32.07273388]]\n"
     ]
    }
   ],
   "source": [
    "X=column_stack((ones((m,1)),x_value))\n",
    "theta=zeros((2,1))\n",
    "iterations=1500\n",
    "alpha=0.01\n",
    "print('Testing the cost function ...')\n",
    "def computeCost(X,y,theta):\n",
    "    m=size(y)\n",
    "    J=0\n",
    "    prediction=dot(X,theta)-y.reshape(m,1)\n",
    "    J=dot(prediction.transpose(),prediction)/(2*m)\n",
    "    return J\n",
    "\n",
    "J=computeCost(X,y,theta)\n",
    "print('With theta = [[0],[0]] Cost computed=',J)"
   ]
  },
  {
   "cell_type": "code",
   "execution_count": 26,
   "metadata": {},
   "outputs": [
    {
     "name": "stdout",
     "output_type": "stream",
     "text": [
      "With theta = [[-1],[2]] Cost computed= [[ 54.24245508]]\n"
     ]
    }
   ],
   "source": [
    "J=computeCost(X,y,[[-1],[2]])\n",
    "print('With theta = [[-1],[2]] Cost computed=',J)"
   ]
  },
  {
   "cell_type": "code",
   "execution_count": null,
   "metadata": {
    "collapsed": true
   },
   "outputs": [],
   "source": []
  }
 ],
 "metadata": {
  "kernelspec": {
   "display_name": "Python 3",
   "language": "python",
   "name": "python3"
  },
  "language_info": {
   "codemirror_mode": {
    "name": "ipython",
    "version": 3
   },
   "file_extension": ".py",
   "mimetype": "text/x-python",
   "name": "python",
   "nbconvert_exporter": "python",
   "pygments_lexer": "ipython3",
   "version": "3.6.2"
  }
 },
 "nbformat": 4,
 "nbformat_minor": 2
}
